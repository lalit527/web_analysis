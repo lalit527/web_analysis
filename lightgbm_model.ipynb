{
 "cells": [
  {
   "cell_type": "code",
   "execution_count": 16,
   "metadata": {},
   "outputs": [],
   "source": [
    "import numpy as np\n",
    "import pandas as pd\n",
    "from sklearn.preprocessing import LabelEncoder\n",
    "import gc\n",
    "from dateutil.relativedelta import relativedelta\n",
    "import random\n",
    "import lightgbm as lgb\n",
    "from sklearn.linear_model import Ridge\n",
    "from pathlib import Path\n",
    "import math"
   ]
  },
  {
   "cell_type": "code",
   "execution_count": 6,
   "metadata": {},
   "outputs": [
    {
     "data": {
      "text/plain": [
       "[PosixPath('../data/web-traffic/key_1.csv'),\n",
       " PosixPath('../data/web-traffic/sample_submission_1.csv'),\n",
       " PosixPath('../data/web-traffic/sample_submission_2.csv'),\n",
       " PosixPath('../data/web-traffic/train_2.csv'),\n",
       " PosixPath('../data/web-traffic/key_2.csv'),\n",
       " PosixPath('../data/web-traffic/train_1.csv')]"
      ]
     },
     "execution_count": 6,
     "metadata": {},
     "output_type": "execute_result"
    }
   ],
   "source": [
    "path = Path('../data/web-traffic/')\n",
    "list(path.iterdir())"
   ]
  },
  {
   "cell_type": "code",
   "execution_count": 8,
   "metadata": {},
   "outputs": [
    {
     "data": {
      "text/html": [
       "<div>\n",
       "<style scoped>\n",
       "    .dataframe tbody tr th:only-of-type {\n",
       "        vertical-align: middle;\n",
       "    }\n",
       "\n",
       "    .dataframe tbody tr th {\n",
       "        vertical-align: top;\n",
       "    }\n",
       "\n",
       "    .dataframe thead th {\n",
       "        text-align: right;\n",
       "    }\n",
       "</style>\n",
       "<table border=\"1\" class=\"dataframe\">\n",
       "  <thead>\n",
       "    <tr style=\"text-align: right;\">\n",
       "      <th></th>\n",
       "      <th>Page</th>\n",
       "      <th>2015-07-01</th>\n",
       "      <th>2015-07-02</th>\n",
       "      <th>2015-07-03</th>\n",
       "      <th>2015-07-04</th>\n",
       "      <th>2015-07-05</th>\n",
       "      <th>2015-07-06</th>\n",
       "      <th>2015-07-07</th>\n",
       "      <th>2015-07-08</th>\n",
       "      <th>2015-07-09</th>\n",
       "      <th>...</th>\n",
       "      <th>2017-09-01</th>\n",
       "      <th>2017-09-02</th>\n",
       "      <th>2017-09-03</th>\n",
       "      <th>2017-09-04</th>\n",
       "      <th>2017-09-05</th>\n",
       "      <th>2017-09-06</th>\n",
       "      <th>2017-09-07</th>\n",
       "      <th>2017-09-08</th>\n",
       "      <th>2017-09-09</th>\n",
       "      <th>2017-09-10</th>\n",
       "    </tr>\n",
       "  </thead>\n",
       "  <tbody>\n",
       "    <tr>\n",
       "      <th>0</th>\n",
       "      <td>2NE1_zh.wikipedia.org_all-access_spider</td>\n",
       "      <td>18.0</td>\n",
       "      <td>11.0</td>\n",
       "      <td>5.0</td>\n",
       "      <td>13.0</td>\n",
       "      <td>14.0</td>\n",
       "      <td>9.0</td>\n",
       "      <td>9.0</td>\n",
       "      <td>22.0</td>\n",
       "      <td>26.0</td>\n",
       "      <td>...</td>\n",
       "      <td>19.0</td>\n",
       "      <td>33.0</td>\n",
       "      <td>33.0</td>\n",
       "      <td>18.0</td>\n",
       "      <td>16.0</td>\n",
       "      <td>27.0</td>\n",
       "      <td>29.0</td>\n",
       "      <td>23.0</td>\n",
       "      <td>54.0</td>\n",
       "      <td>38.0</td>\n",
       "    </tr>\n",
       "    <tr>\n",
       "      <th>1</th>\n",
       "      <td>2PM_zh.wikipedia.org_all-access_spider</td>\n",
       "      <td>11.0</td>\n",
       "      <td>14.0</td>\n",
       "      <td>15.0</td>\n",
       "      <td>18.0</td>\n",
       "      <td>11.0</td>\n",
       "      <td>13.0</td>\n",
       "      <td>22.0</td>\n",
       "      <td>11.0</td>\n",
       "      <td>10.0</td>\n",
       "      <td>...</td>\n",
       "      <td>32.0</td>\n",
       "      <td>30.0</td>\n",
       "      <td>11.0</td>\n",
       "      <td>19.0</td>\n",
       "      <td>54.0</td>\n",
       "      <td>25.0</td>\n",
       "      <td>26.0</td>\n",
       "      <td>23.0</td>\n",
       "      <td>13.0</td>\n",
       "      <td>81.0</td>\n",
       "    </tr>\n",
       "    <tr>\n",
       "      <th>2</th>\n",
       "      <td>3C_zh.wikipedia.org_all-access_spider</td>\n",
       "      <td>1.0</td>\n",
       "      <td>0.0</td>\n",
       "      <td>1.0</td>\n",
       "      <td>1.0</td>\n",
       "      <td>0.0</td>\n",
       "      <td>4.0</td>\n",
       "      <td>0.0</td>\n",
       "      <td>3.0</td>\n",
       "      <td>4.0</td>\n",
       "      <td>...</td>\n",
       "      <td>6.0</td>\n",
       "      <td>6.0</td>\n",
       "      <td>7.0</td>\n",
       "      <td>2.0</td>\n",
       "      <td>4.0</td>\n",
       "      <td>7.0</td>\n",
       "      <td>3.0</td>\n",
       "      <td>4.0</td>\n",
       "      <td>7.0</td>\n",
       "      <td>6.0</td>\n",
       "    </tr>\n",
       "    <tr>\n",
       "      <th>3</th>\n",
       "      <td>4minute_zh.wikipedia.org_all-access_spider</td>\n",
       "      <td>35.0</td>\n",
       "      <td>13.0</td>\n",
       "      <td>10.0</td>\n",
       "      <td>94.0</td>\n",
       "      <td>4.0</td>\n",
       "      <td>26.0</td>\n",
       "      <td>14.0</td>\n",
       "      <td>9.0</td>\n",
       "      <td>11.0</td>\n",
       "      <td>...</td>\n",
       "      <td>7.0</td>\n",
       "      <td>19.0</td>\n",
       "      <td>19.0</td>\n",
       "      <td>9.0</td>\n",
       "      <td>6.0</td>\n",
       "      <td>16.0</td>\n",
       "      <td>19.0</td>\n",
       "      <td>30.0</td>\n",
       "      <td>38.0</td>\n",
       "      <td>4.0</td>\n",
       "    </tr>\n",
       "    <tr>\n",
       "      <th>4</th>\n",
       "      <td>52_Hz_I_Love_You_zh.wikipedia.org_all-access_s...</td>\n",
       "      <td>NaN</td>\n",
       "      <td>NaN</td>\n",
       "      <td>NaN</td>\n",
       "      <td>NaN</td>\n",
       "      <td>NaN</td>\n",
       "      <td>NaN</td>\n",
       "      <td>NaN</td>\n",
       "      <td>NaN</td>\n",
       "      <td>NaN</td>\n",
       "      <td>...</td>\n",
       "      <td>16.0</td>\n",
       "      <td>16.0</td>\n",
       "      <td>19.0</td>\n",
       "      <td>9.0</td>\n",
       "      <td>20.0</td>\n",
       "      <td>23.0</td>\n",
       "      <td>28.0</td>\n",
       "      <td>14.0</td>\n",
       "      <td>8.0</td>\n",
       "      <td>7.0</td>\n",
       "    </tr>\n",
       "  </tbody>\n",
       "</table>\n",
       "<p>5 rows × 804 columns</p>\n",
       "</div>"
      ],
      "text/plain": [
       "                                                Page  2015-07-01  2015-07-02  \\\n",
       "0            2NE1_zh.wikipedia.org_all-access_spider        18.0        11.0   \n",
       "1             2PM_zh.wikipedia.org_all-access_spider        11.0        14.0   \n",
       "2              3C_zh.wikipedia.org_all-access_spider         1.0         0.0   \n",
       "3         4minute_zh.wikipedia.org_all-access_spider        35.0        13.0   \n",
       "4  52_Hz_I_Love_You_zh.wikipedia.org_all-access_s...         NaN         NaN   \n",
       "\n",
       "   2015-07-03  2015-07-04  2015-07-05  2015-07-06  2015-07-07  2015-07-08  \\\n",
       "0         5.0        13.0        14.0         9.0         9.0        22.0   \n",
       "1        15.0        18.0        11.0        13.0        22.0        11.0   \n",
       "2         1.0         1.0         0.0         4.0         0.0         3.0   \n",
       "3        10.0        94.0         4.0        26.0        14.0         9.0   \n",
       "4         NaN         NaN         NaN         NaN         NaN         NaN   \n",
       "\n",
       "   2015-07-09  ...  2017-09-01  2017-09-02  2017-09-03  2017-09-04  \\\n",
       "0        26.0  ...        19.0        33.0        33.0        18.0   \n",
       "1        10.0  ...        32.0        30.0        11.0        19.0   \n",
       "2         4.0  ...         6.0         6.0         7.0         2.0   \n",
       "3        11.0  ...         7.0        19.0        19.0         9.0   \n",
       "4         NaN  ...        16.0        16.0        19.0         9.0   \n",
       "\n",
       "   2017-09-05  2017-09-06  2017-09-07  2017-09-08  2017-09-09  2017-09-10  \n",
       "0        16.0        27.0        29.0        23.0        54.0        38.0  \n",
       "1        54.0        25.0        26.0        23.0        13.0        81.0  \n",
       "2         4.0         7.0         3.0         4.0         7.0         6.0  \n",
       "3         6.0        16.0        19.0        30.0        38.0         4.0  \n",
       "4        20.0        23.0        28.0        14.0         8.0         7.0  \n",
       "\n",
       "[5 rows x 804 columns]"
      ]
     },
     "execution_count": 8,
     "metadata": {},
     "output_type": "execute_result"
    }
   ],
   "source": [
    "train_df = pd.read_csv(path/'train_2.csv')\n",
    "train_df.head()"
   ]
  },
  {
   "cell_type": "code",
   "execution_count": 9,
   "metadata": {},
   "outputs": [
    {
     "data": {
      "text/plain": [
       "(145063, 804)"
      ]
     },
     "execution_count": 9,
     "metadata": {},
     "output_type": "execute_result"
    }
   ],
   "source": [
    "train_df.shape"
   ]
  },
  {
   "cell_type": "code",
   "execution_count": 14,
   "metadata": {},
   "outputs": [],
   "source": [
    "train_df = pd.melt(train_df, id_vars='Page', var_name='date', value_name='Visits')\n",
    "train_df['date'] = train_df['date'].astype('datetime64[ns]')\n",
    "train_df['Visits'] = train_df['Visits'].astype('float32')"
   ]
  },
  {
   "cell_type": "code",
   "execution_count": 17,
   "metadata": {},
   "outputs": [],
   "source": [
    "temp = train_df.loc[(train_df[\"Visits\"] > 0) & (train_df[\"date\"] < '2016-03-01')].groupby([\"Page\"]).size()\n",
    "pages = list(temp.index)\n",
    "train_df = train_df.loc[(train_df[\"date\"] > '2015-03-01') & (train_df[\"Page\"].isin(pages))]\n",
    "\n",
    "le = LabelEncoder()\n",
    "train_df.loc[:,\"Page\"] = le.fit_transform(train_df[\"Page\"])\n",
    "\n",
    "random.seed(2)\n",
    "random_pages = random.sample(sorted(train_df[\"Page\"].unique()), 50000)\n",
    "train_df = train_df.loc[train_df[\"Page\"].isin(random_pages)]\n",
    "\n",
    "\n"
   ]
  },
  {
   "cell_type": "code",
   "execution_count": 18,
   "metadata": {},
   "outputs": [],
   "source": [
    "def smape(y_true, y_pred):\n",
    "    out = 0\n",
    "    for i in range(y_true.shape[0]):\n",
    "        a = y_true[i]\n",
    "        b = y_pred[i]\n",
    "        if b < 1:\n",
    "            b = 0\n",
    "        c = a+b\n",
    "        if c == 0:\n",
    "            continue\n",
    "        out += math.fabs(a - b) / c\n",
    "    out *= (200.0 / y_true.shape[0])\n",
    "    return out\n",
    "\n",
    "\n",
    "def lgb_smape(preds, df):\n",
    "    labels = df.get_label()\n",
    "    labels, preds = np.expm1(np.array(labels)), np.expm1(np.array(preds))\n",
    "    return 'smape', smape(labels, preds), False"
   ]
  },
  {
   "cell_type": "code",
   "execution_count": 19,
   "metadata": {},
   "outputs": [],
   "source": [
    "def create_time_features(data):\n",
    "    data['weekday'] = data.date.dt.weekday\n",
    "    data['is_weekend'] = ((data.date.dt.dayofweek) // 5 == 1).astype('int32')\n",
    "    data['year'] = data.date.dt.year \n",
    "    data['month'] = data.date.dt.month\n",
    "    data['day'] = data.date.dt.day\n",
    "    data['dayCount'] = data['date'].apply(lambda x: x.toordinal())\n",
    "    data['weekOfYear'] = data.date.dt.weekofyear\n",
    "    return data"
   ]
  },
  {
   "cell_type": "code",
   "execution_count": 21,
   "metadata": {},
   "outputs": [],
   "source": [
    "train_df.Visits.fillna(0, inplace=True)\n",
    "train_df = create_time_features(train_df)\n",
    "\n",
    "train_df['Visits_log'] = np.log1p(train_df['Visits'])\n",
    "train_df['yearminusone'] = train_df['year'] - 1\n",
    "\n",
    "train_df = pd.merge(train_df, train_df[['Page', 'year', 'month', 'day', 'Visits_log']],\n",
    "                    left_on =['Page','yearminusone','month','day'], right_on = ['Page','year','month','day'],\n",
    "                    how = 'left', suffixes=('', '_2015'), sort = False)\n",
    "\n",
    "train_df.drop(['yearminusone', 'year_2015', 'year'], axis = 1, inplace = True)\n",
    "\n",
    "train_df = train_df.loc[train_df.date >= '2015-11-11']"
   ]
  },
  {
   "cell_type": "code",
   "execution_count": 22,
   "metadata": {},
   "outputs": [
    {
     "data": {
      "text/plain": [
       "46"
      ]
     },
     "execution_count": 22,
     "metadata": {},
     "output_type": "execute_result"
    }
   ],
   "source": [
    "gc.collect()"
   ]
  },
  {
   "cell_type": "code",
   "execution_count": 23,
   "metadata": {},
   "outputs": [],
   "source": [
    "def prepareData(data, train_start_date, train_end_date, test_start_date, test_end_date):\n",
    "    data.sort_values(by = \"dayCount\", inplace = True)\n",
    "    data = data.reset_index(drop = True)\n",
    "    \n",
    "    train_start_index = data.loc[data.date == train_start_date].index[0]\n",
    "    train_end_index = data.loc[data.date == train_end_date].index[-1]\n",
    "    test_start_index = data.loc[data.date == test_start_date].index[0]\n",
    "    test_end_index = data.loc[data.date == test_end_date].index[-1]\n",
    "    \n",
    "    last60days_index = data.loc[data.date == (pd.to_datetime(train_end_date) - relativedelta(days = 60))].index[0]\n",
    "    last30days_index = data.loc[data.date == (pd.to_datetime(train_end_date) - relativedelta(days = 30))].index[0]\n",
    "    \n",
    "    data.loc[((data.month == 11) & (data.index >=test_start_index) & (data.index <= test_end_index)),\"month\"] = 10 \n",
    "    \n",
    "    # just for simplify\n",
    "    data.rename(columns={\"Visits\":\"y\", \"Visits_log\":\"y_log\"}, inplace=True)\n",
    "    \n",
    "    print(\"Calculate averages....\")\n",
    "    \n",
    "    temp = pd.DataFrame(data.loc[train_start_index:train_end_index].groupby(['Page','weekday'])['y_log'].median())\n",
    "    temp.columns = ['weekday_average']\n",
    "    data = data.join(temp, on =['Page','weekday'], how = 'left', sort = False)\n",
    "    \n",
    "    temp = pd.DataFrame(data.loc[train_start_index:train_end_index].groupby(['Page'])['y_log'].median())\n",
    "    temp.columns = ['Page_average']\n",
    "    data = data.join(temp, on =['Page'], how = 'left', sort = False)\n",
    "    \n",
    "    temp = pd.DataFrame(data.loc[train_start_index:train_end_index].groupby(['Page'])['y_log'].quantile(0.95))\n",
    "    temp.columns = ['quant_95']\n",
    "    data = data.join(temp, on =['Page'], how = 'left', sort = False)  \n",
    "    \n",
    "    temp = pd.DataFrame(data.groupby(['Page','weekOfYear'])['y_log'].median())\n",
    "    temp.columns = ['week_0']\n",
    "    temp['week_10'] = temp.week_0.shift(10)\n",
    "    temp['week_11'] = temp.week_0.shift(11)\n",
    "    temp['week_12'] = temp.week_0.shift(12)    \n",
    "    data = data.join(temp, on =['Page','weekOfYear'], how = 'left', sort = False)\n",
    "    \n",
    "    \n",
    "    data['test_month_no'] = ((data.month % 2 == 0) + 1).astype('int32')\n",
    "    \n",
    "    temp = pd.DataFrame(data.groupby(['Page','month','test_month_no'])['y_log'].median())\n",
    "    temp.columns = ['month_0']\n",
    "    temp['month_1'] = temp.month_0.shift(1)\n",
    "    temp['month_2'] = temp.month_0.shift(2)\n",
    "    temp['month_3'] = temp.month_0.shift(3)\n",
    "    \n",
    "    temp = temp.reset_index()\n",
    "    temp['month_1'] = temp.month_0.shift(1)\n",
    "    temp['month_2'] = temp.month_0.shift(2)\n",
    "    temp[\"last_month\"] = 0   \n",
    "    temp.loc[temp.test_month_no == 1,\"last_month\"] = temp.month_1\n",
    "    temp.loc[temp.test_month_no == 2,\"last_month\"] = temp.month_2\n",
    "    temp.set_index(['Page', 'month', 'test_month_no'], inplace=True)    \n",
    "    data = data.join(temp, on =['Page','month','test_month_no'], how = 'left', sort = False)\n",
    "    \n",
    "    data.sort_values(by = \"dayCount\", inplace = True)\n",
    "    data = data.reset_index(drop = True)\n",
    "    \n",
    "    features = ['Page','Page_average','date','is_weekend', 'dayCount','weekday_average',\\\n",
    "                'week_10','last_month','month','Visits_log_2015', 'quant_95','test_month_no', 'y_log']\n",
    "    return data[features]"
   ]
  },
  {
   "cell_type": "code",
   "execution_count": 24,
   "metadata": {},
   "outputs": [],
   "source": [
    "def train_test_split(data, train_start_date,train_end_date, test_start_date, test_end_date):\n",
    "    data.sort_values(by = \"dayCount\", inplace = True)\n",
    "    data = data.reset_index(drop = True)\n",
    "    train_start_index = data.loc[data.date == train_start_date].index[0]\n",
    "    train_end_index = data.loc[data.date == train_end_date].index[-1]\n",
    "    test_start_index = data.loc[data.date == test_start_date].index[0]\n",
    "    test_end_index = data.loc[data.date == test_end_date].index[-1]\n",
    "\n",
    "    print(\"Splitting to train - test....\")\n",
    "    X_train = data.loc[train_start_index:train_end_index,:].copy()\n",
    "    \n",
    "    #remove outliers\n",
    "    X_train.loc[(X_train.y_log > X_train.quant_95),\"y_log\"] = X_train.quant_95\n",
    "       \n",
    "    y_train = X_train.loc[:,\"y_log\"]\n",
    "    X_train = X_train.drop([\"y_log\"], axis=1)\n",
    "       \n",
    "    X_test = data.loc[test_start_index:test_end_index,:].copy()\n",
    "    y_test = X_test.loc[:,\"y_log\"]\n",
    "    X_test = X_test.drop([\"y_log\"], axis=1)\n",
    "   \n",
    "    print(\"Splitting done\")\n",
    "    return X_train, y_train, X_test, y_test"
   ]
  },
  {
   "cell_type": "code",
   "execution_count": 26,
   "metadata": {},
   "outputs": [
    {
     "name": "stdout",
     "output_type": "stream",
     "text": [
      "Calculate averages....\n",
      "CPU times: user 2min 9s, sys: 55.4 s, total: 3min 4s\n",
      "Wall time: 2min 5s\n"
     ]
    }
   ],
   "source": [
    "%%time\n",
    "#train_start_date = '2016-01-01'\n",
    "train_start_date = '2016-01-01'\n",
    "train_end_date  = '2016-08-31'\n",
    "test_start_date  = '2016-09-10'\n",
    "test_end_date  = '2016-11-10'\n",
    "dates = [train_start_date, train_end_date,test_start_date, test_end_date]\n",
    "dataForModel = prepareData(train_df.copy(), *dates)\n",
    "gc.collect()"
   ]
  },
  {
   "cell_type": "code",
   "execution_count": 27,
   "metadata": {},
   "outputs": [],
   "source": [
    "dataForModel.Visits_log_2015.fillna(dataForModel.last_month, inplace = True)"
   ]
  },
  {
   "cell_type": "code",
   "execution_count": 28,
   "metadata": {},
   "outputs": [
    {
     "name": "stdout",
     "output_type": "stream",
     "text": [
      "Splitting to train - test....\n",
      "Splitting done\n"
     ]
    }
   ],
   "source": [
    "X_train,y_train,X_test,y_test = train_test_split(dataForModel, *dates)"
   ]
  },
  {
   "cell_type": "code",
   "execution_count": 30,
   "metadata": {},
   "outputs": [],
   "source": [
    "param = {}\n",
    "param['application'] = 'regression_l2'\n",
    "param['learning_rate'] = 0.1\n",
    "param['feature_fraction'] = 0.5\n",
    "param['bagging_fraction'] = 0.5\n",
    "param['bagging_freq'] = 1\n",
    "param['max_depth'] = 5\n",
    "param['num_threads'] = 4\n",
    "param['verbose'] = 0"
   ]
  },
  {
   "cell_type": "code",
   "execution_count": null,
   "metadata": {},
   "outputs": [
    {
     "name": "stdout",
     "output_type": "stream",
     "text": [
      "[1]\ttraining's l2: 4.44493\ttraining's smape: 123.483\tvalid_1's l2: 4.24046\tvalid_1's smape: 121.546\n",
      "Training until validation scores don't improve for 50 rounds.\n",
      "[2]\ttraining's l2: 3.68932\ttraining's smape: 117.349\tvalid_1's l2: 3.53818\tvalid_1's smape: 115.423\n",
      "[3]\ttraining's l2: 3.25709\ttraining's smape: 112.773\tvalid_1's l2: 2.99258\tvalid_1's smape: 109.717\n",
      "[4]\ttraining's l2: 2.72673\ttraining's smape: 106.69\tvalid_1's l2: 2.53785\tvalid_1's smape: 103.811\n",
      "[5]\ttraining's l2: 2.44263\ttraining's smape: 102.342\tvalid_1's l2: 2.17857\tvalid_1's smape: 98.4137\n",
      "[6]\ttraining's l2: 2.06643\ttraining's smape: 96.5605\tvalid_1's l2: 1.87988\tvalid_1's smape: 92.9755\n",
      "[7]\ttraining's l2: 1.87966\ttraining's smape: 92.6116\tvalid_1's l2: 1.64236\tvalid_1's smape: 88.0611\n",
      "[8]\ttraining's l2: 1.61008\ttraining's smape: 87.3168\tvalid_1's l2: 1.44505\tvalid_1's smape: 83.2512\n",
      "[9]\ttraining's l2: 1.48737\ttraining's smape: 83.8923\tvalid_1's l2: 1.28692\tvalid_1's smape: 78.9589\n",
      "[10]\ttraining's l2: 1.29226\ttraining's smape: 79.1733\tvalid_1's l2: 1.1567\tvalid_1's smape: 74.8478\n",
      "[11]\ttraining's l2: 1.21203\ttraining's smape: 76.299\tvalid_1's l2: 1.05247\tvalid_1's smape: 71.2714\n",
      "[12]\ttraining's l2: 1.06949\ttraining's smape: 72.2108\tvalid_1's l2: 0.966592\tvalid_1's smape: 67.9021\n",
      "[13]\ttraining's l2: 1.01688\ttraining's smape: 69.9085\tvalid_1's l2: 0.896948\tvalid_1's smape: 65.0288\n",
      "[14]\ttraining's l2: 0.911371\ttraining's smape: 66.4449\tvalid_1's l2: 0.840204\tvalid_1's smape: 62.3638\n",
      "[15]\ttraining's l2: 0.877053\ttraining's smape: 64.6739\tvalid_1's l2: 0.794312\tvalid_1's smape: 60.1569\n",
      "[16]\ttraining's l2: 0.798421\ttraining's smape: 61.8006\tvalid_1's l2: 0.756961\tvalid_1's smape: 58.1166\n",
      "[17]\ttraining's l2: 0.776147\ttraining's smape: 60.499\tvalid_1's l2: 0.726309\tvalid_1's smape: 56.4835\n",
      "[18]\ttraining's l2: 0.716871\ttraining's smape: 58.16\tvalid_1's l2: 0.701806\tvalid_1's smape: 54.9888\n",
      "[19]\ttraining's l2: 0.702401\ttraining's smape: 57.2431\tvalid_1's l2: 0.681158\tvalid_1's smape: 53.8191\n"
     ]
    }
   ],
   "source": [
    "features = ['Page','is_weekend', 'dayCount','weekday_average', 'last_month','test_month_no','month','Visits_log_2015']\n",
    "\n",
    "lgb_train = lgb.Dataset(X_train[features], label=y_train, free_raw_data=False)\n",
    "lgb_val = lgb.Dataset(X_test[features], label=y_test, free_raw_data=False, reference=lgb_train)\n",
    "\n",
    "model = lgb.train(param, lgb_train, 300, valid_sets=[lgb_train,lgb_val], feval=lgb_smape, early_stopping_rounds=50)"
   ]
  },
  {
   "cell_type": "code",
   "execution_count": null,
   "metadata": {},
   "outputs": [],
   "source": []
  }
 ],
 "metadata": {
  "kernelspec": {
   "display_name": "Python 3",
   "language": "python",
   "name": "python3"
  },
  "language_info": {
   "codemirror_mode": {
    "name": "ipython",
    "version": 3
   },
   "file_extension": ".py",
   "mimetype": "text/x-python",
   "name": "python",
   "nbconvert_exporter": "python",
   "pygments_lexer": "ipython3",
   "version": "3.7.1"
  }
 },
 "nbformat": 4,
 "nbformat_minor": 2
}
